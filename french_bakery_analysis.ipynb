{
 "cells": [
  {
   "cell_type": "markdown",
   "metadata": {},
   "source": [
    "# French Bakery Analysis\n",
    "## Authored by Trinity Gahagen\n",
    "#### Phase 2 Project for Flatiron School\n",
    "---\n",
    "---"
   ]
  },
  {
   "cell_type": "code",
   "execution_count": 175,
   "metadata": {},
   "outputs": [],
   "source": [
    "# Imports\n",
    "import pandas as pd\n",
    "import numpy as np\n",
    "import matplotlib.pyplot as plt\n",
    "import seaborn as sns\n",
    "from scipy import stats"
   ]
  },
  {
   "cell_type": "code",
   "execution_count": 176,
   "metadata": {},
   "outputs": [],
   "source": [
    "bakery = pd.read_csv('Bakery sales.csv', parse_dates=['date'])"
   ]
  },
  {
   "cell_type": "code",
   "execution_count": 177,
   "metadata": {},
   "outputs": [
    {
     "data": {
      "text/html": [
       "<div>\n",
       "<style scoped>\n",
       "    .dataframe tbody tr th:only-of-type {\n",
       "        vertical-align: middle;\n",
       "    }\n",
       "\n",
       "    .dataframe tbody tr th {\n",
       "        vertical-align: top;\n",
       "    }\n",
       "\n",
       "    .dataframe thead th {\n",
       "        text-align: right;\n",
       "    }\n",
       "</style>\n",
       "<table border=\"1\" class=\"dataframe\">\n",
       "  <thead>\n",
       "    <tr style=\"text-align: right;\">\n",
       "      <th></th>\n",
       "      <th>Unnamed: 0</th>\n",
       "      <th>date</th>\n",
       "      <th>time</th>\n",
       "      <th>ticket_number</th>\n",
       "      <th>article</th>\n",
       "      <th>Quantity</th>\n",
       "      <th>unit_price</th>\n",
       "    </tr>\n",
       "  </thead>\n",
       "  <tbody>\n",
       "    <tr>\n",
       "      <th>0</th>\n",
       "      <td>0</td>\n",
       "      <td>2021-01-02</td>\n",
       "      <td>08:38</td>\n",
       "      <td>150040.0</td>\n",
       "      <td>BAGUETTE</td>\n",
       "      <td>1.0</td>\n",
       "      <td>0,90 €</td>\n",
       "    </tr>\n",
       "    <tr>\n",
       "      <th>1</th>\n",
       "      <td>1</td>\n",
       "      <td>2021-01-02</td>\n",
       "      <td>08:38</td>\n",
       "      <td>150040.0</td>\n",
       "      <td>PAIN AU CHOCOLAT</td>\n",
       "      <td>3.0</td>\n",
       "      <td>1,20 €</td>\n",
       "    </tr>\n",
       "    <tr>\n",
       "      <th>2</th>\n",
       "      <td>4</td>\n",
       "      <td>2021-01-02</td>\n",
       "      <td>09:14</td>\n",
       "      <td>150041.0</td>\n",
       "      <td>PAIN AU CHOCOLAT</td>\n",
       "      <td>2.0</td>\n",
       "      <td>1,20 €</td>\n",
       "    </tr>\n",
       "    <tr>\n",
       "      <th>3</th>\n",
       "      <td>5</td>\n",
       "      <td>2021-01-02</td>\n",
       "      <td>09:14</td>\n",
       "      <td>150041.0</td>\n",
       "      <td>PAIN</td>\n",
       "      <td>1.0</td>\n",
       "      <td>1,15 €</td>\n",
       "    </tr>\n",
       "    <tr>\n",
       "      <th>4</th>\n",
       "      <td>8</td>\n",
       "      <td>2021-01-02</td>\n",
       "      <td>09:25</td>\n",
       "      <td>150042.0</td>\n",
       "      <td>TRADITIONAL BAGUETTE</td>\n",
       "      <td>5.0</td>\n",
       "      <td>1,20 €</td>\n",
       "    </tr>\n",
       "  </tbody>\n",
       "</table>\n",
       "</div>"
      ],
      "text/plain": [
       "   Unnamed: 0       date   time  ticket_number               article  \\\n",
       "0           0 2021-01-02  08:38       150040.0              BAGUETTE   \n",
       "1           1 2021-01-02  08:38       150040.0      PAIN AU CHOCOLAT   \n",
       "2           4 2021-01-02  09:14       150041.0      PAIN AU CHOCOLAT   \n",
       "3           5 2021-01-02  09:14       150041.0                  PAIN   \n",
       "4           8 2021-01-02  09:25       150042.0  TRADITIONAL BAGUETTE   \n",
       "\n",
       "   Quantity unit_price  \n",
       "0       1.0     0,90 €  \n",
       "1       3.0     1,20 €  \n",
       "2       2.0     1,20 €  \n",
       "3       1.0     1,15 €  \n",
       "4       5.0     1,20 €  "
      ]
     },
     "execution_count": 177,
     "metadata": {},
     "output_type": "execute_result"
    }
   ],
   "source": [
    "bakery.head()"
   ]
  },
  {
   "cell_type": "markdown",
   "metadata": {},
   "source": [
    "## Data Cleaning and Exploration\n",
    "---"
   ]
  },
  {
   "cell_type": "code",
   "execution_count": 178,
   "metadata": {},
   "outputs": [
    {
     "name": "stdout",
     "output_type": "stream",
     "text": [
      "<class 'pandas.core.frame.DataFrame'>\n",
      "RangeIndex: 234005 entries, 0 to 234004\n",
      "Data columns (total 7 columns):\n",
      " #   Column         Non-Null Count   Dtype         \n",
      "---  ------         --------------   -----         \n",
      " 0   Unnamed: 0     234005 non-null  int64         \n",
      " 1   date           234005 non-null  datetime64[ns]\n",
      " 2   time           234005 non-null  object        \n",
      " 3   ticket_number  234005 non-null  float64       \n",
      " 4   article        234005 non-null  object        \n",
      " 5   Quantity       234005 non-null  float64       \n",
      " 6   unit_price     234005 non-null  object        \n",
      "dtypes: datetime64[ns](1), float64(2), int64(1), object(3)\n",
      "memory usage: 12.5+ MB\n"
     ]
    }
   ],
   "source": [
    "bakery.info()"
   ]
  },
  {
   "cell_type": "code",
   "execution_count": 179,
   "metadata": {},
   "outputs": [
    {
     "data": {
      "text/html": [
       "<div>\n",
       "<style scoped>\n",
       "    .dataframe tbody tr th:only-of-type {\n",
       "        vertical-align: middle;\n",
       "    }\n",
       "\n",
       "    .dataframe tbody tr th {\n",
       "        vertical-align: top;\n",
       "    }\n",
       "\n",
       "    .dataframe thead th {\n",
       "        text-align: right;\n",
       "    }\n",
       "</style>\n",
       "<table border=\"1\" class=\"dataframe\">\n",
       "  <thead>\n",
       "    <tr style=\"text-align: right;\">\n",
       "      <th></th>\n",
       "      <th>Unnamed: 0</th>\n",
       "      <th>date</th>\n",
       "      <th>ticket_number</th>\n",
       "      <th>Quantity</th>\n",
       "    </tr>\n",
       "  </thead>\n",
       "  <tbody>\n",
       "    <tr>\n",
       "      <th>count</th>\n",
       "      <td>234005.000000</td>\n",
       "      <td>234005</td>\n",
       "      <td>234005.000000</td>\n",
       "      <td>234005.000000</td>\n",
       "    </tr>\n",
       "    <tr>\n",
       "      <th>mean</th>\n",
       "      <td>255205.035854</td>\n",
       "      <td>2021-11-30 11:33:31.049336576</td>\n",
       "      <td>219201.258738</td>\n",
       "      <td>1.538377</td>\n",
       "    </tr>\n",
       "    <tr>\n",
       "      <th>min</th>\n",
       "      <td>0.000000</td>\n",
       "      <td>2021-01-02 00:00:00</td>\n",
       "      <td>150040.000000</td>\n",
       "      <td>-200.000000</td>\n",
       "    </tr>\n",
       "    <tr>\n",
       "      <th>25%</th>\n",
       "      <td>127979.000000</td>\n",
       "      <td>2021-07-03 00:00:00</td>\n",
       "      <td>184754.000000</td>\n",
       "      <td>1.000000</td>\n",
       "    </tr>\n",
       "    <tr>\n",
       "      <th>50%</th>\n",
       "      <td>254573.000000</td>\n",
       "      <td>2021-11-04 00:00:00</td>\n",
       "      <td>218807.000000</td>\n",
       "      <td>1.000000</td>\n",
       "    </tr>\n",
       "    <tr>\n",
       "      <th>75%</th>\n",
       "      <td>382911.000000</td>\n",
       "      <td>2022-05-31 00:00:00</td>\n",
       "      <td>253927.000000</td>\n",
       "      <td>2.000000</td>\n",
       "    </tr>\n",
       "    <tr>\n",
       "      <th>max</th>\n",
       "      <td>511395.000000</td>\n",
       "      <td>2022-09-30 00:00:00</td>\n",
       "      <td>288913.000000</td>\n",
       "      <td>200.000000</td>\n",
       "    </tr>\n",
       "    <tr>\n",
       "      <th>std</th>\n",
       "      <td>147501.625992</td>\n",
       "      <td>NaN</td>\n",
       "      <td>40053.223896</td>\n",
       "      <td>1.289603</td>\n",
       "    </tr>\n",
       "  </tbody>\n",
       "</table>\n",
       "</div>"
      ],
      "text/plain": [
       "          Unnamed: 0                           date  ticket_number  \\\n",
       "count  234005.000000                         234005  234005.000000   \n",
       "mean   255205.035854  2021-11-30 11:33:31.049336576  219201.258738   \n",
       "min         0.000000            2021-01-02 00:00:00  150040.000000   \n",
       "25%    127979.000000            2021-07-03 00:00:00  184754.000000   \n",
       "50%    254573.000000            2021-11-04 00:00:00  218807.000000   \n",
       "75%    382911.000000            2022-05-31 00:00:00  253927.000000   \n",
       "max    511395.000000            2022-09-30 00:00:00  288913.000000   \n",
       "std    147501.625992                            NaN   40053.223896   \n",
       "\n",
       "            Quantity  \n",
       "count  234005.000000  \n",
       "mean        1.538377  \n",
       "min      -200.000000  \n",
       "25%         1.000000  \n",
       "50%         1.000000  \n",
       "75%         2.000000  \n",
       "max       200.000000  \n",
       "std         1.289603  "
      ]
     },
     "execution_count": 179,
     "metadata": {},
     "output_type": "execute_result"
    }
   ],
   "source": [
    "bakery.describe()"
   ]
  },
  {
   "cell_type": "code",
   "execution_count": 180,
   "metadata": {},
   "outputs": [
    {
     "data": {
      "text/html": [
       "<div>\n",
       "<style scoped>\n",
       "    .dataframe tbody tr th:only-of-type {\n",
       "        vertical-align: middle;\n",
       "    }\n",
       "\n",
       "    .dataframe tbody tr th {\n",
       "        vertical-align: top;\n",
       "    }\n",
       "\n",
       "    .dataframe thead th {\n",
       "        text-align: right;\n",
       "    }\n",
       "</style>\n",
       "<table border=\"1\" class=\"dataframe\">\n",
       "  <thead>\n",
       "    <tr style=\"text-align: right;\">\n",
       "      <th></th>\n",
       "      <th>time</th>\n",
       "      <th>article</th>\n",
       "      <th>unit_price</th>\n",
       "    </tr>\n",
       "  </thead>\n",
       "  <tbody>\n",
       "    <tr>\n",
       "      <th>count</th>\n",
       "      <td>234005</td>\n",
       "      <td>234005</td>\n",
       "      <td>234005</td>\n",
       "    </tr>\n",
       "    <tr>\n",
       "      <th>unique</th>\n",
       "      <td>683</td>\n",
       "      <td>149</td>\n",
       "      <td>123</td>\n",
       "    </tr>\n",
       "    <tr>\n",
       "      <th>top</th>\n",
       "      <td>11:43</td>\n",
       "      <td>TRADITIONAL BAGUETTE</td>\n",
       "      <td>1,20 €</td>\n",
       "    </tr>\n",
       "    <tr>\n",
       "      <th>freq</th>\n",
       "      <td>859</td>\n",
       "      <td>67689</td>\n",
       "      <td>49080</td>\n",
       "    </tr>\n",
       "  </tbody>\n",
       "</table>\n",
       "</div>"
      ],
      "text/plain": [
       "          time               article unit_price\n",
       "count   234005                234005     234005\n",
       "unique     683                   149        123\n",
       "top      11:43  TRADITIONAL BAGUETTE     1,20 €\n",
       "freq       859                 67689      49080"
      ]
     },
     "execution_count": 180,
     "metadata": {},
     "output_type": "execute_result"
    }
   ],
   "source": [
    "bakery.describe(include=\"O\")"
   ]
  },
  {
   "cell_type": "code",
   "execution_count": 181,
   "metadata": {},
   "outputs": [
    {
     "data": {
      "text/plain": [
       "0    0\n",
       "1    1\n",
       "2    4\n",
       "3    5\n",
       "4    8\n",
       "Name: Unnamed: 0, dtype: int64"
      ]
     },
     "execution_count": 181,
     "metadata": {},
     "output_type": "execute_result"
    }
   ],
   "source": [
    "bakery['Unnamed: 0'].head()"
   ]
  },
  {
   "cell_type": "code",
   "execution_count": 182,
   "metadata": {},
   "outputs": [],
   "source": [
    "# Unnamed doesn't seem like a useful column, so we'll just drop it\n",
    "try:\n",
    "    bakery.drop(columns=['Unnamed: 0'], inplace=True)\n",
    "except:\n",
    "    print(\"Column already dropped\")"
   ]
  },
  {
   "cell_type": "code",
   "execution_count": 183,
   "metadata": {},
   "outputs": [
    {
     "data": {
      "text/html": [
       "<div>\n",
       "<style scoped>\n",
       "    .dataframe tbody tr th:only-of-type {\n",
       "        vertical-align: middle;\n",
       "    }\n",
       "\n",
       "    .dataframe tbody tr th {\n",
       "        vertical-align: top;\n",
       "    }\n",
       "\n",
       "    .dataframe thead th {\n",
       "        text-align: right;\n",
       "    }\n",
       "</style>\n",
       "<table border=\"1\" class=\"dataframe\">\n",
       "  <thead>\n",
       "    <tr style=\"text-align: right;\">\n",
       "      <th></th>\n",
       "      <th>unit_price</th>\n",
       "      <th>unit_price_clean</th>\n",
       "    </tr>\n",
       "  </thead>\n",
       "  <tbody>\n",
       "    <tr>\n",
       "      <th>0</th>\n",
       "      <td>0,90 €</td>\n",
       "      <td>0.90</td>\n",
       "    </tr>\n",
       "    <tr>\n",
       "      <th>1</th>\n",
       "      <td>1,20 €</td>\n",
       "      <td>1.20</td>\n",
       "    </tr>\n",
       "    <tr>\n",
       "      <th>2</th>\n",
       "      <td>1,20 €</td>\n",
       "      <td>1.20</td>\n",
       "    </tr>\n",
       "    <tr>\n",
       "      <th>3</th>\n",
       "      <td>1,15 €</td>\n",
       "      <td>1.15</td>\n",
       "    </tr>\n",
       "    <tr>\n",
       "      <th>4</th>\n",
       "      <td>1,20 €</td>\n",
       "      <td>1.20</td>\n",
       "    </tr>\n",
       "  </tbody>\n",
       "</table>\n",
       "</div>"
      ],
      "text/plain": [
       "  unit_price  unit_price_clean\n",
       "0     0,90 €              0.90\n",
       "1     1,20 €              1.20\n",
       "2     1,20 €              1.20\n",
       "3     1,15 €              1.15\n",
       "4     1,20 €              1.20"
      ]
     },
     "execution_count": 183,
     "metadata": {},
     "output_type": "execute_result"
    }
   ],
   "source": [
    "# Clean unit_price column\n",
    "bakery['unit_price_clean'] = bakery['unit_price'].str.extract(\"(\\d+,\\d+)\")\n",
    "bakery['unit_price_clean'] = bakery['unit_price_clean'].str.replace(\",\", \".\").astype(float)\n",
    "bakery[['unit_price', 'unit_price_clean']].head()"
   ]
  },
  {
   "cell_type": "code",
   "execution_count": 184,
   "metadata": {},
   "outputs": [
    {
     "data": {
      "text/plain": [
       "0    0.97\n",
       "1    1.30\n",
       "2    1.30\n",
       "3    1.24\n",
       "4    1.30\n",
       "Name: unit_price_usd, dtype: float64"
      ]
     },
     "execution_count": 184,
     "metadata": {},
     "output_type": "execute_result"
    }
   ],
   "source": [
    "# Convert to USD\n",
    "EURO_TO_DOLLAR = 1.08 # 1 Euro = 1.08 USD\n",
    "\n",
    "bakery['unit_price_usd'] = round(bakery['unit_price_clean'] * EURO_TO_DOLLAR, 2)\n",
    "bakery['unit_price_usd'].head()"
   ]
  },
  {
   "cell_type": "code",
   "execution_count": 185,
   "metadata": {},
   "outputs": [
    {
     "data": {
      "text/plain": [
       "136451"
      ]
     },
     "execution_count": 185,
     "metadata": {},
     "output_type": "execute_result"
    }
   ],
   "source": [
    "bakery['ticket_number'].nunique()"
   ]
  },
  {
   "cell_type": "code",
   "execution_count": 186,
   "metadata": {},
   "outputs": [
    {
     "data": {
      "text/plain": [
       "0    0.97\n",
       "1    3.90\n",
       "2    2.60\n",
       "3    1.24\n",
       "4    6.50\n",
       "Name: total_spent_on_quantity, dtype: float64"
      ]
     },
     "execution_count": 186,
     "metadata": {},
     "output_type": "execute_result"
    }
   ],
   "source": [
    "bakery['total_spent_on_quantity'] = round(bakery['unit_price_usd'] * bakery['Quantity'], 2)\n",
    "bakery['total_spent_on_quantity'].head()"
   ]
  },
  {
   "cell_type": "code",
   "execution_count": 187,
   "metadata": {},
   "outputs": [
    {
     "name": "stdout",
     "output_type": "stream",
     "text": [
      "149\n"
     ]
    },
    {
     "data": {
      "text/plain": [
       "array(['BAGUETTE', 'PAIN AU CHOCOLAT', 'PAIN', 'TRADITIONAL BAGUETTE',\n",
       "       'CROISSANT', 'BANETTE', 'BANETTINE', 'SPECIAL BREAD', 'COUPE',\n",
       "       'SAND JB EMMENTAL', 'KOUIGN AMANN', 'BOULE 200G', 'BOULE 400G',\n",
       "       'GAL FRANGIPANE 6P', 'CAMPAGNE', 'MOISSON', 'CAFE OU EAU',\n",
       "       'BRIOCHE', 'CEREAL BAGUETTE', 'SEIGLE', 'COMPLET',\n",
       "       'DIVERS PATISSERIE', 'GAL FRANGIPANE 4P', 'COOKIE', 'FICELLE',\n",
       "       'PAIN AUX RAISINS', 'GAL POMME 6P', 'GAL POMME 4P', 'FINANCIER X5',\n",
       "       'VIK BREAD', 'DIVERS VIENNOISERIE', 'GACHE', 'SANDWICH COMPLET',\n",
       "       'PAIN BANETTE', 'GRAND FAR BRETON', 'QUIM BREAD',\n",
       "       'SPECIAL BREAD KG', 'GD KOUIGN AMANN', 'BOULE POLKA',\n",
       "       'DEMI BAGUETTE', 'CHAUSSON AUX POMMES', 'BAGUETTE GRAINE',\n",
       "       'DIVERS CONFISERIE', 'SUCETTE', 'DIVERS BOULANGERIE',\n",
       "       'BOISSON 33CL', 'PATES', 'FORMULE SANDWICH', 'DIVERS SANDWICHS',\n",
       "       'CROISSANT AMANDES', 'PAIN CHOCO AMANDES', 'SACHET VIENNOISERIE',\n",
       "       'NANTAIS', 'CHOCOLAT', 'PAIN S/SEL', 'FONDANT CHOCOLAT',\n",
       "       'GAL POIRE CHOCO 6P', 'GAL POIRE CHOCO 4P', 'GALETTE 8 PERS',\n",
       "       'SAND JB', 'SACHET DE CROUTON', 'GRANDE SUCETTE', 'DEMI PAIN',\n",
       "       'TARTELETTE', 'FLAN', 'PARIS BREST', 'SAVARIN', 'FLAN ABRICOT',\n",
       "       'BAGUETTE APERO', 'MILLES FEUILLES', 'CHOU CHANTILLY', 'ECLAIR',\n",
       "       'ROYAL 4P', 'TARTE FRUITS 6P', 'TARTE FRUITS 4P', 'NOIX JAPONAISE',\n",
       "       'THE', 'BRIOCHETTE', 'ROYAL 6P', 'ECLAIR FRAISE PISTACHE', '.',\n",
       "       'GD FAR BRETON', 'TRIANGLES', 'TROPEZIENNE',\n",
       "       'TROPEZIENNE FRAMBOISE', 'ROYAL', 'TARTE FRAISE 6P',\n",
       "       'TARTELETTE FRAISE', 'TARTE FRAISE 4PER', 'FRAISIER',\n",
       "       'NID DE POULE', 'TARTELETTE CHOC', 'PAIN DE MIE', 'CRUMBLE',\n",
       "       'FINANCIER', 'DIVERS BOISSONS', 'CAKE', 'VIENNOISE', 'TRAITEUR',\n",
       "       'PAIN GRAINES', 'PLATPREPARE6,50', 'PLATPREPARE5,50',\n",
       "       'PLATPREPARE7,00', 'FORMULE PLAT PREPARE', 'ST HONORE', 'BROWNIES',\n",
       "       'RELIGIEUSE', 'PLATPREPARE6,00', 'DELICETROPICAL',\n",
       "       'CRUMBLECARAMEL OU PISTAE', 'PT NANTAIS', 'GD NANTAIS',\n",
       "       'DOUCEUR D HIVER', 'TROIS CHOCOLAT', 'ARTICLE 295', 'TARTE FINE',\n",
       "       'ENTREMETS', 'BRIOCHE DE NOEL', 'FRAMBOISIER', 'BUCHE 4PERS',\n",
       "       'BUCHE 6PERS', 'GD PLATEAU SALE', 'BUCHE 8PERS', 'PT PLATEAU SALE',\n",
       "       'REDUCTION SUCREES 12', 'PAIN NOIR', 'REDUCTION SUCREES 24',\n",
       "       'BOTTEREAU', 'MERINGUE', 'PALMIER', 'PAILLE', 'PLAT 6.50E',\n",
       "       'PLAT 7.60E', 'PLAT 7.00', 'PLAT', 'PLAT 8.30E', 'FORMULE PATE',\n",
       "       'GUERANDAIS', 'PALET BRETON', 'CARAMEL NOIX', 'MACARON',\n",
       "       '12 MACARON', 'ARMORICAIN', 'PLAQUE TARTE 25P', 'SABLE F  P',\n",
       "       'PAIN SUISSE PEPITO', 'TULIPE', 'TARTELETTE COCKTAIL',\n",
       "       'SACHET DE VIENNOISERIE'], dtype=object)"
      ]
     },
     "metadata": {},
     "output_type": "display_data"
    }
   ],
   "source": [
    "print(bakery['article'].nunique())\n",
    "display(bakery['article'].unique())"
   ]
  },
  {
   "cell_type": "code",
   "execution_count": 188,
   "metadata": {},
   "outputs": [
    {
     "data": {
      "text/html": [
       "<div>\n",
       "<style scoped>\n",
       "    .dataframe tbody tr th:only-of-type {\n",
       "        vertical-align: middle;\n",
       "    }\n",
       "\n",
       "    .dataframe tbody tr th {\n",
       "        vertical-align: top;\n",
       "    }\n",
       "\n",
       "    .dataframe thead th {\n",
       "        text-align: right;\n",
       "    }\n",
       "</style>\n",
       "<table border=\"1\" class=\"dataframe\">\n",
       "  <thead>\n",
       "    <tr style=\"text-align: right;\">\n",
       "      <th></th>\n",
       "      <th>date</th>\n",
       "      <th>time</th>\n",
       "      <th>ticket_number</th>\n",
       "      <th>article</th>\n",
       "      <th>Quantity</th>\n",
       "      <th>unit_price</th>\n",
       "      <th>unit_price_clean</th>\n",
       "      <th>unit_price_usd</th>\n",
       "      <th>total_spent_on_quantity</th>\n",
       "    </tr>\n",
       "  </thead>\n",
       "  <tbody>\n",
       "    <tr>\n",
       "      <th>15360</th>\n",
       "      <td>2021-03-04</td>\n",
       "      <td>12:32</td>\n",
       "      <td>159219.0</td>\n",
       "      <td>.</td>\n",
       "      <td>2.0</td>\n",
       "      <td>0,00 €</td>\n",
       "      <td>0.0</td>\n",
       "      <td>0.0</td>\n",
       "      <td>0.0</td>\n",
       "    </tr>\n",
       "    <tr>\n",
       "      <th>19904</th>\n",
       "      <td>2021-03-18</td>\n",
       "      <td>12:59</td>\n",
       "      <td>161853.0</td>\n",
       "      <td>.</td>\n",
       "      <td>1.0</td>\n",
       "      <td>0,00 €</td>\n",
       "      <td>0.0</td>\n",
       "      <td>0.0</td>\n",
       "      <td>0.0</td>\n",
       "    </tr>\n",
       "    <tr>\n",
       "      <th>24959</th>\n",
       "      <td>2021-04-04</td>\n",
       "      <td>09:53</td>\n",
       "      <td>164878.0</td>\n",
       "      <td>.</td>\n",
       "      <td>1.0</td>\n",
       "      <td>0,00 €</td>\n",
       "      <td>0.0</td>\n",
       "      <td>0.0</td>\n",
       "      <td>0.0</td>\n",
       "    </tr>\n",
       "    <tr>\n",
       "      <th>33569</th>\n",
       "      <td>2021-04-27</td>\n",
       "      <td>16:48</td>\n",
       "      <td>170079.0</td>\n",
       "      <td>.</td>\n",
       "      <td>1.0</td>\n",
       "      <td>0,00 €</td>\n",
       "      <td>0.0</td>\n",
       "      <td>0.0</td>\n",
       "      <td>0.0</td>\n",
       "    </tr>\n",
       "    <tr>\n",
       "      <th>61792</th>\n",
       "      <td>2021-07-10</td>\n",
       "      <td>13:25</td>\n",
       "      <td>186662.0</td>\n",
       "      <td>.</td>\n",
       "      <td>2.0</td>\n",
       "      <td>0,00 €</td>\n",
       "      <td>0.0</td>\n",
       "      <td>0.0</td>\n",
       "      <td>0.0</td>\n",
       "    </tr>\n",
       "  </tbody>\n",
       "</table>\n",
       "</div>"
      ],
      "text/plain": [
       "            date   time  ticket_number article  Quantity unit_price  \\\n",
       "15360 2021-03-04  12:32       159219.0       .       2.0     0,00 €   \n",
       "19904 2021-03-18  12:59       161853.0       .       1.0     0,00 €   \n",
       "24959 2021-04-04  09:53       164878.0       .       1.0     0,00 €   \n",
       "33569 2021-04-27  16:48       170079.0       .       1.0     0,00 €   \n",
       "61792 2021-07-10  13:25       186662.0       .       2.0     0,00 €   \n",
       "\n",
       "       unit_price_clean  unit_price_usd  total_spent_on_quantity  \n",
       "15360               0.0             0.0                      0.0  \n",
       "19904               0.0             0.0                      0.0  \n",
       "24959               0.0             0.0                      0.0  \n",
       "33569               0.0             0.0                      0.0  \n",
       "61792               0.0             0.0                      0.0  "
      ]
     },
     "execution_count": 188,
     "metadata": {},
     "output_type": "execute_result"
    }
   ],
   "source": [
    "PERIOD_ARTICLES = bakery['article'] == '.'\n",
    "bakery[PERIOD_ARTICLES]"
   ]
  },
  {
   "cell_type": "code",
   "execution_count": 189,
   "metadata": {},
   "outputs": [],
   "source": [
    "# Drop articles that just have period, since there's no price associated with them\n",
    "if len(bakery[PERIOD_ARTICLES]) > 0:\n",
    "    bakery.drop(bakery[PERIOD_ARTICLES].index, inplace=True)\n",
    "else:\n",
    "    print(\"Already dropped\")"
   ]
  },
  {
   "cell_type": "code",
   "execution_count": 190,
   "metadata": {},
   "outputs": [
    {
     "data": {
      "text/html": [
       "<div>\n",
       "<style scoped>\n",
       "    .dataframe tbody tr th:only-of-type {\n",
       "        vertical-align: middle;\n",
       "    }\n",
       "\n",
       "    .dataframe tbody tr th {\n",
       "        vertical-align: top;\n",
       "    }\n",
       "\n",
       "    .dataframe thead th {\n",
       "        text-align: right;\n",
       "    }\n",
       "</style>\n",
       "<table border=\"1\" class=\"dataframe\">\n",
       "  <thead>\n",
       "    <tr style=\"text-align: right;\">\n",
       "      <th></th>\n",
       "      <th>date</th>\n",
       "      <th>time</th>\n",
       "      <th>ticket_number</th>\n",
       "      <th>article</th>\n",
       "      <th>Quantity</th>\n",
       "      <th>unit_price</th>\n",
       "      <th>unit_price_clean</th>\n",
       "      <th>unit_price_usd</th>\n",
       "      <th>total_spent_on_quantity</th>\n",
       "    </tr>\n",
       "  </thead>\n",
       "  <tbody>\n",
       "    <tr>\n",
       "      <th>448</th>\n",
       "      <td>2021-01-03</td>\n",
       "      <td>10:41</td>\n",
       "      <td>150265.0</td>\n",
       "      <td>BAGUETTE</td>\n",
       "      <td>-1.0</td>\n",
       "      <td>0,90 €</td>\n",
       "      <td>0.90</td>\n",
       "      <td>0.97</td>\n",
       "      <td>-0.97</td>\n",
       "    </tr>\n",
       "    <tr>\n",
       "      <th>1162</th>\n",
       "      <td>2021-01-05</td>\n",
       "      <td>19:00</td>\n",
       "      <td>150738.0</td>\n",
       "      <td>SPECIAL BREAD</td>\n",
       "      <td>-1.0</td>\n",
       "      <td>2,40 €</td>\n",
       "      <td>2.40</td>\n",
       "      <td>2.59</td>\n",
       "      <td>-2.59</td>\n",
       "    </tr>\n",
       "    <tr>\n",
       "      <th>1163</th>\n",
       "      <td>2021-01-05</td>\n",
       "      <td>19:00</td>\n",
       "      <td>150738.0</td>\n",
       "      <td>DIVERS PATISSERIE</td>\n",
       "      <td>-1.0</td>\n",
       "      <td>6,00 €</td>\n",
       "      <td>6.00</td>\n",
       "      <td>6.48</td>\n",
       "      <td>-6.48</td>\n",
       "    </tr>\n",
       "    <tr>\n",
       "      <th>1164</th>\n",
       "      <td>2021-01-05</td>\n",
       "      <td>19:00</td>\n",
       "      <td>150738.0</td>\n",
       "      <td>DIVERS BOULANGERIE</td>\n",
       "      <td>-1.0</td>\n",
       "      <td>2,00 €</td>\n",
       "      <td>2.00</td>\n",
       "      <td>2.16</td>\n",
       "      <td>-2.16</td>\n",
       "    </tr>\n",
       "    <tr>\n",
       "      <th>1467</th>\n",
       "      <td>2021-01-08</td>\n",
       "      <td>11:58</td>\n",
       "      <td>150941.0</td>\n",
       "      <td>COUPE</td>\n",
       "      <td>-1.0</td>\n",
       "      <td>0,15 €</td>\n",
       "      <td>0.15</td>\n",
       "      <td>0.16</td>\n",
       "      <td>-0.16</td>\n",
       "    </tr>\n",
       "    <tr>\n",
       "      <th>...</th>\n",
       "      <td>...</td>\n",
       "      <td>...</td>\n",
       "      <td>...</td>\n",
       "      <td>...</td>\n",
       "      <td>...</td>\n",
       "      <td>...</td>\n",
       "      <td>...</td>\n",
       "      <td>...</td>\n",
       "      <td>...</td>\n",
       "    </tr>\n",
       "    <tr>\n",
       "      <th>233054</th>\n",
       "      <td>2022-09-27</td>\n",
       "      <td>18:03</td>\n",
       "      <td>288312.0</td>\n",
       "      <td>COUPE</td>\n",
       "      <td>-2.0</td>\n",
       "      <td>0,15 €</td>\n",
       "      <td>0.15</td>\n",
       "      <td>0.16</td>\n",
       "      <td>-0.32</td>\n",
       "    </tr>\n",
       "    <tr>\n",
       "      <th>233055</th>\n",
       "      <td>2022-09-27</td>\n",
       "      <td>18:03</td>\n",
       "      <td>288312.0</td>\n",
       "      <td>TRADITIONAL BAGUETTE</td>\n",
       "      <td>-1.0</td>\n",
       "      <td>1,30 €</td>\n",
       "      <td>1.30</td>\n",
       "      <td>1.40</td>\n",
       "      <td>-1.40</td>\n",
       "    </tr>\n",
       "    <tr>\n",
       "      <th>233056</th>\n",
       "      <td>2022-09-27</td>\n",
       "      <td>18:03</td>\n",
       "      <td>288312.0</td>\n",
       "      <td>CEREAL BAGUETTE</td>\n",
       "      <td>-3.0</td>\n",
       "      <td>1,35 €</td>\n",
       "      <td>1.35</td>\n",
       "      <td>1.46</td>\n",
       "      <td>-4.38</td>\n",
       "    </tr>\n",
       "    <tr>\n",
       "      <th>233553</th>\n",
       "      <td>2022-09-29</td>\n",
       "      <td>11:55</td>\n",
       "      <td>288639.0</td>\n",
       "      <td>BOISSON 33CL</td>\n",
       "      <td>-1.0</td>\n",
       "      <td>1,50 €</td>\n",
       "      <td>1.50</td>\n",
       "      <td>1.62</td>\n",
       "      <td>-1.62</td>\n",
       "    </tr>\n",
       "    <tr>\n",
       "      <th>233554</th>\n",
       "      <td>2022-09-29</td>\n",
       "      <td>11:55</td>\n",
       "      <td>288639.0</td>\n",
       "      <td>PLAT 7.60E</td>\n",
       "      <td>-1.0</td>\n",
       "      <td>7,60 €</td>\n",
       "      <td>7.60</td>\n",
       "      <td>8.21</td>\n",
       "      <td>-8.21</td>\n",
       "    </tr>\n",
       "  </tbody>\n",
       "</table>\n",
       "<p>1295 rows × 9 columns</p>\n",
       "</div>"
      ],
      "text/plain": [
       "             date   time  ticket_number               article  Quantity  \\\n",
       "448    2021-01-03  10:41       150265.0              BAGUETTE      -1.0   \n",
       "1162   2021-01-05  19:00       150738.0         SPECIAL BREAD      -1.0   \n",
       "1163   2021-01-05  19:00       150738.0     DIVERS PATISSERIE      -1.0   \n",
       "1164   2021-01-05  19:00       150738.0    DIVERS BOULANGERIE      -1.0   \n",
       "1467   2021-01-08  11:58       150941.0                 COUPE      -1.0   \n",
       "...           ...    ...            ...                   ...       ...   \n",
       "233054 2022-09-27  18:03       288312.0                 COUPE      -2.0   \n",
       "233055 2022-09-27  18:03       288312.0  TRADITIONAL BAGUETTE      -1.0   \n",
       "233056 2022-09-27  18:03       288312.0       CEREAL BAGUETTE      -3.0   \n",
       "233553 2022-09-29  11:55       288639.0          BOISSON 33CL      -1.0   \n",
       "233554 2022-09-29  11:55       288639.0            PLAT 7.60E      -1.0   \n",
       "\n",
       "       unit_price  unit_price_clean  unit_price_usd  total_spent_on_quantity  \n",
       "448        0,90 €              0.90            0.97                    -0.97  \n",
       "1162       2,40 €              2.40            2.59                    -2.59  \n",
       "1163       6,00 €              6.00            6.48                    -6.48  \n",
       "1164       2,00 €              2.00            2.16                    -2.16  \n",
       "1467       0,15 €              0.15            0.16                    -0.16  \n",
       "...           ...               ...             ...                      ...  \n",
       "233054     0,15 €              0.15            0.16                    -0.32  \n",
       "233055     1,30 €              1.30            1.40                    -1.40  \n",
       "233056     1,35 €              1.35            1.46                    -4.38  \n",
       "233553     1,50 €              1.50            1.62                    -1.62  \n",
       "233554     7,60 €              7.60            8.21                    -8.21  \n",
       "\n",
       "[1295 rows x 9 columns]"
      ]
     },
     "execution_count": 190,
     "metadata": {},
     "output_type": "execute_result"
    }
   ],
   "source": [
    "# There are negative quantities\n",
    "bakery.loc[bakery['Quantity'] < 0]"
   ]
  },
  {
   "cell_type": "markdown",
   "metadata": {},
   "source": [
    "Here we see that there are negative quantities included in this dataset. From the Kaggle page, the owner of the dataset commented on this, saying:\n",
    ">Sorry for the delay. Negative quantities might be due to till errors (the huge -200) or refunds\n"
   ]
  },
  {
   "cell_type": "code",
   "execution_count": 191,
   "metadata": {},
   "outputs": [
    {
     "data": {
      "text/html": [
       "<div>\n",
       "<style scoped>\n",
       "    .dataframe tbody tr th:only-of-type {\n",
       "        vertical-align: middle;\n",
       "    }\n",
       "\n",
       "    .dataframe tbody tr th {\n",
       "        vertical-align: top;\n",
       "    }\n",
       "\n",
       "    .dataframe thead th {\n",
       "        text-align: right;\n",
       "    }\n",
       "</style>\n",
       "<table border=\"1\" class=\"dataframe\">\n",
       "  <thead>\n",
       "    <tr style=\"text-align: right;\">\n",
       "      <th></th>\n",
       "      <th>date</th>\n",
       "      <th>time</th>\n",
       "      <th>ticket_number</th>\n",
       "      <th>article</th>\n",
       "      <th>Quantity</th>\n",
       "      <th>unit_price</th>\n",
       "      <th>unit_price_clean</th>\n",
       "      <th>unit_price_usd</th>\n",
       "      <th>total_spent_on_quantity</th>\n",
       "    </tr>\n",
       "  </thead>\n",
       "  <tbody>\n",
       "    <tr>\n",
       "      <th>50552</th>\n",
       "      <td>2021-06-12</td>\n",
       "      <td>09:58</td>\n",
       "      <td>179931.0</td>\n",
       "      <td>CAFE OU EAU</td>\n",
       "      <td>200.0</td>\n",
       "      <td>1,00 €</td>\n",
       "      <td>1.0</td>\n",
       "      <td>1.08</td>\n",
       "      <td>216.0</td>\n",
       "    </tr>\n",
       "  </tbody>\n",
       "</table>\n",
       "</div>"
      ],
      "text/plain": [
       "            date   time  ticket_number      article  Quantity unit_price  \\\n",
       "50552 2021-06-12  09:58       179931.0  CAFE OU EAU     200.0     1,00 €   \n",
       "\n",
       "       unit_price_clean  unit_price_usd  total_spent_on_quantity  \n",
       "50552               1.0            1.08                    216.0  "
      ]
     },
     "execution_count": 191,
     "metadata": {},
     "output_type": "execute_result"
    }
   ],
   "source": [
    "bakery[bakery['Quantity'] > 100]"
   ]
  },
  {
   "cell_type": "markdown",
   "metadata": {},
   "source": [
    "## PLACEHOLDER: Figure out what to do about the negative quantities"
   ]
  },
  {
   "cell_type": "code",
   "execution_count": 192,
   "metadata": {},
   "outputs": [
    {
     "data": {
      "text/html": [
       "<div>\n",
       "<style scoped>\n",
       "    .dataframe tbody tr th:only-of-type {\n",
       "        vertical-align: middle;\n",
       "    }\n",
       "\n",
       "    .dataframe tbody tr th {\n",
       "        vertical-align: top;\n",
       "    }\n",
       "\n",
       "    .dataframe thead th {\n",
       "        text-align: right;\n",
       "    }\n",
       "</style>\n",
       "<table border=\"1\" class=\"dataframe\">\n",
       "  <thead>\n",
       "    <tr style=\"text-align: right;\">\n",
       "      <th></th>\n",
       "      <th>date</th>\n",
       "      <th>time</th>\n",
       "      <th>ticket_number</th>\n",
       "      <th>article</th>\n",
       "      <th>Quantity</th>\n",
       "      <th>unit_price</th>\n",
       "      <th>unit_price_clean</th>\n",
       "      <th>unit_price_usd</th>\n",
       "      <th>total_spent_on_quantity</th>\n",
       "      <th>month</th>\n",
       "      <th>year</th>\n",
       "      <th>day_of_the_week</th>\n",
       "    </tr>\n",
       "  </thead>\n",
       "  <tbody>\n",
       "    <tr>\n",
       "      <th>0</th>\n",
       "      <td>2021-01-02</td>\n",
       "      <td>08:38</td>\n",
       "      <td>150040.0</td>\n",
       "      <td>BAGUETTE</td>\n",
       "      <td>1.0</td>\n",
       "      <td>0,90 €</td>\n",
       "      <td>0.90</td>\n",
       "      <td>0.97</td>\n",
       "      <td>0.97</td>\n",
       "      <td>Jan</td>\n",
       "      <td>2021</td>\n",
       "      <td>Sat</td>\n",
       "    </tr>\n",
       "    <tr>\n",
       "      <th>1</th>\n",
       "      <td>2021-01-02</td>\n",
       "      <td>08:38</td>\n",
       "      <td>150040.0</td>\n",
       "      <td>PAIN AU CHOCOLAT</td>\n",
       "      <td>3.0</td>\n",
       "      <td>1,20 €</td>\n",
       "      <td>1.20</td>\n",
       "      <td>1.30</td>\n",
       "      <td>3.90</td>\n",
       "      <td>Jan</td>\n",
       "      <td>2021</td>\n",
       "      <td>Sat</td>\n",
       "    </tr>\n",
       "    <tr>\n",
       "      <th>2</th>\n",
       "      <td>2021-01-02</td>\n",
       "      <td>09:14</td>\n",
       "      <td>150041.0</td>\n",
       "      <td>PAIN AU CHOCOLAT</td>\n",
       "      <td>2.0</td>\n",
       "      <td>1,20 €</td>\n",
       "      <td>1.20</td>\n",
       "      <td>1.30</td>\n",
       "      <td>2.60</td>\n",
       "      <td>Jan</td>\n",
       "      <td>2021</td>\n",
       "      <td>Sat</td>\n",
       "    </tr>\n",
       "    <tr>\n",
       "      <th>3</th>\n",
       "      <td>2021-01-02</td>\n",
       "      <td>09:14</td>\n",
       "      <td>150041.0</td>\n",
       "      <td>PAIN</td>\n",
       "      <td>1.0</td>\n",
       "      <td>1,15 €</td>\n",
       "      <td>1.15</td>\n",
       "      <td>1.24</td>\n",
       "      <td>1.24</td>\n",
       "      <td>Jan</td>\n",
       "      <td>2021</td>\n",
       "      <td>Sat</td>\n",
       "    </tr>\n",
       "    <tr>\n",
       "      <th>4</th>\n",
       "      <td>2021-01-02</td>\n",
       "      <td>09:25</td>\n",
       "      <td>150042.0</td>\n",
       "      <td>TRADITIONAL BAGUETTE</td>\n",
       "      <td>5.0</td>\n",
       "      <td>1,20 €</td>\n",
       "      <td>1.20</td>\n",
       "      <td>1.30</td>\n",
       "      <td>6.50</td>\n",
       "      <td>Jan</td>\n",
       "      <td>2021</td>\n",
       "      <td>Sat</td>\n",
       "    </tr>\n",
       "  </tbody>\n",
       "</table>\n",
       "</div>"
      ],
      "text/plain": [
       "        date   time  ticket_number               article  Quantity unit_price  \\\n",
       "0 2021-01-02  08:38       150040.0              BAGUETTE       1.0     0,90 €   \n",
       "1 2021-01-02  08:38       150040.0      PAIN AU CHOCOLAT       3.0     1,20 €   \n",
       "2 2021-01-02  09:14       150041.0      PAIN AU CHOCOLAT       2.0     1,20 €   \n",
       "3 2021-01-02  09:14       150041.0                  PAIN       1.0     1,15 €   \n",
       "4 2021-01-02  09:25       150042.0  TRADITIONAL BAGUETTE       5.0     1,20 €   \n",
       "\n",
       "   unit_price_clean  unit_price_usd  total_spent_on_quantity month  year  \\\n",
       "0              0.90            0.97                     0.97   Jan  2021   \n",
       "1              1.20            1.30                     3.90   Jan  2021   \n",
       "2              1.20            1.30                     2.60   Jan  2021   \n",
       "3              1.15            1.24                     1.24   Jan  2021   \n",
       "4              1.20            1.30                     6.50   Jan  2021   \n",
       "\n",
       "  day_of_the_week  \n",
       "0             Sat  \n",
       "1             Sat  \n",
       "2             Sat  \n",
       "3             Sat  \n",
       "4             Sat  "
      ]
     },
     "execution_count": 192,
     "metadata": {},
     "output_type": "execute_result"
    }
   ],
   "source": [
    "# Separating time increments into separate columns for future grouping\n",
    "bakery['month'] = bakery['date'].dt.month\n",
    "bakery['year'] = bakery['date'].dt.year\n",
    "bakery['day_of_the_week'] = bakery['date'].dt.day_of_week\n",
    "\n",
    "\n",
    "DAY_DICT = {\n",
    "    0 : \"Mon\",\n",
    "    1 : \"Tues\",\n",
    "    2 : \"Wed\",\n",
    "    3 : \"Thurs\",\n",
    "    4 : \"Fri\",\n",
    "    5 : \"Sat\",\n",
    "    6 : \"Sun\"\n",
    "}\n",
    "\n",
    "MONTH_DICT = {\n",
    "    1 : \"Jan\",\n",
    "    2 : \"Feb\",\n",
    "    3 : \"Mar\",\n",
    "    4 : \"Apr\",\n",
    "    5 : \"May\",\n",
    "    6 : \"Jun\",\n",
    "    7 : \"Jul\",\n",
    "    8 : \"Aug\",\n",
    "    9 : \"Sep\",\n",
    "    10 : \"Oct\",\n",
    "    11 : \"Nov\",\n",
    "    12 : \"Dec\"\n",
    "}\n",
    "\n",
    "bakery['month'].replace(MONTH_DICT, inplace=True)\n",
    "bakery['day_of_the_week'].replace(DAY_DICT, inplace=True)\n",
    "\n",
    "bakery.head()\n"
   ]
  },
  {
   "cell_type": "markdown",
   "metadata": {},
   "source": [
    "## Descriptive Analysis Questions\n",
    "---"
   ]
  },
  {
   "cell_type": "markdown",
   "metadata": {},
   "source": [
    "#### What is the daily revenue of the bakery over time?"
   ]
  },
  {
   "cell_type": "code",
   "execution_count": 193,
   "metadata": {},
   "outputs": [
    {
     "data": {
      "image/png": "[encoded data removed]",
      "text/plain": [
       "<Figure size 1080x576 with 1 Axes>"
      ]
     },
     "metadata": {
      "needs_background": "light"
     },
     "output_type": "display_data"
    }
   ],
   "source": [
    "data = bakery.groupby('date')['total_spent_on_quantity'].sum()\n",
    "\n",
    "fig, ax = plt.subplots(figsize=(15, 8))\n",
    "sns.lineplot(x=data.index, y=data, ax=ax)\n",
    "ax.set_xlabel('Date')\n",
    "ax.set_ylabel('Total Daily Revenue')\n",
    "ax.set_title('Daily Revenue over Time');\n"
   ]
  },
  {
   "cell_type": "markdown",
   "metadata": {},
   "source": [
    "#### Which days of the week generate the most revenue?"
   ]
  },
  {
   "cell_type": "code",
   "execution_count": 194,
   "metadata": {},
   "outputs": [
    {
     "data": {
      "image/png": "[encoded data removed]",
      "text/plain": [
       "<Figure size 1080x576 with 1 Axes>"
      ]
     },
     "metadata": {
      "needs_background": "light"
     },
     "output_type": "display_data"
    }
   ],
   "source": [
    "fig, ax = plt.subplots(figsize=(15, 8))\n",
    "\n",
    "data = bakery.groupby('day_of_the_week')['total_spent_on_quantity'].sum()\n",
    "sns.barplot(x=data.index, y=data, ax=ax)\n",
    "ax.set_xlabel('Date')\n",
    "ax.set_title('Total Revenue Per Day of the Week');"
   ]
  },
  {
   "cell_type": "markdown",
   "metadata": {},
   "source": [
    "#### Which months generate the most revenue?"
   ]
  },
  {
   "cell_type": "code",
   "execution_count": 195,
   "metadata": {},
   "outputs": [
    {
     "data": {
      "image/png": "[encoded data removed]",
      "text/plain": [
       "<Figure size 1080x576 with 1 Axes>"
      ]
     },
     "metadata": {
      "needs_background": "light"
     },
     "output_type": "display_data"
    }
   ],
   "source": [
    "fig, ax = plt.subplots(figsize=(15, 8))\n",
    "\n",
    "data = bakery.groupby('month')['total_spent_on_quantity'].sum()\n",
    "sns.barplot(x=data.index, y=data, ax=ax)\n",
    "ax.set_xlabel('Month')\n",
    "ax.set_title('Total Revenue Per Month');"
   ]
  },
  {
   "cell_type": "markdown",
   "metadata": {},
   "source": [
    "#### What products sell the most?"
   ]
  },
  {
   "cell_type": "code",
   "execution_count": 196,
   "metadata": {},
   "outputs": [
    {
     "data": {
      "image/png": "[encoded data removed]",
      "text/plain": [
       "<Figure size 1080x576 with 1 Axes>"
      ]
     },
     "metadata": {
      "needs_background": "light"
     },
     "output_type": "display_data"
    }
   ],
   "source": [
    "fig, ax = plt.subplots(figsize=(15, 8))\n",
    "data = bakery.groupby('article')['Quantity'].sum().sort_values(ascending=False)[:10]\n",
    "sns.barplot(x=data.index, y=data, ax=ax)\n",
    "ax.tick_params(axis='x', rotation=45)"
   ]
  },
  {
   "cell_type": "code",
   "execution_count": null,
   "metadata": {},
   "outputs": [],
   "source": []
  }
 ],
 "metadata": {
  "kernelspec": {
   "display_name": "Python (learn-env)",
   "language": "python",
   "name": "learn-env"
  },
  "language_info": {
   "codemirror_mode": {
    "name": "ipython",
    "version": 3
   },
   "file_extension": ".py",
   "mimetype": "text/x-python",
   "name": "python",
   "nbconvert_exporter": "python",
   "pygments_lexer": "ipython3",
   "version": "3.8.5"
  }
 },
 "nbformat": 4,
 "nbformat_minor": 2
}
